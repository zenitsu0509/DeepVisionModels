{
  "nbformat": 4,
  "nbformat_minor": 0,
  "metadata": {
    "colab": {
      "provenance": [],
      "gpuType": "T4"
    },
    "kernelspec": {
      "name": "python3",
      "display_name": "Python 3"
    },
    "language_info": {
      "name": "python"
    },
    "accelerator": "GPU",
    "widgets": {
      "application/vnd.jupyter.widget-state+json": {
        "ade0375253a243c9a1fe5842f3b6b7f6": {
          "model_module": "@jupyter-widgets/controls",
          "model_name": "HTMLModel",
          "model_module_version": "1.5.0",
          "state": {
            "_dom_classes": [],
            "_model_module": "@jupyter-widgets/controls",
            "_model_module_version": "1.5.0",
            "_model_name": "HTMLModel",
            "_view_count": null,
            "_view_module": "@jupyter-widgets/controls",
            "_view_module_version": "1.5.0",
            "_view_name": "HTMLView",
            "description": "",
            "description_tooltip": null,
            "layout": "IPY_MODEL_d7b0791f2a5d41948f67f79459c11b81",
            "placeholder": "​",
            "style": "IPY_MODEL_5931e2be798e451880c2ab01106320de",
            "value": "\n<canvas id=\"canvas\" width=256 height=256 style=\"border:1px solid #000000;\"></canvas>\n<br>\n<button onclick=\"clearCanvas()\">Clear</button>\n<button onclick=\"predictDigit()\">Predict</button>\n<script>\nvar canvas = document.getElementById('canvas');\nvar ctx = canvas.getContext('2d');\nvar drawing = false;\n\ncanvas.addEventListener('mousedown', function(e) {\n    drawing = true;\n    draw(e);\n});\n\ncanvas.addEventListener('mousemove', function(e) {\n    if (drawing) {\n        draw(e);\n    }\n});\n\ncanvas.addEventListener('mouseup', function() {\n    drawing = false;\n    ctx.beginPath();\n});\n\ncanvas.addEventListener('mouseleave', function() {\n    drawing = false;\n    ctx.beginPath();\n});\n\nfunction draw(e) {\n    ctx.lineWidth = 20;  // Increase line width for better visibility\n    ctx.lineCap = 'round';\n    ctx.strokeStyle = 'white';  // Ensure the stroke color is white (if the background is black)\n    ctx.lineTo(e.clientX - canvas.getBoundingClientRect().left, e.clientY - canvas.getBoundingClientRect().top);\n    ctx.stroke();\n    ctx.beginPath();\n    ctx.moveTo(e.clientX - canvas.getBoundingClientRect().left, e.clientY - canvas.getBoundingClientRect().top);\n}\n\nfunction clearCanvas() {\n    ctx.clearRect(0, 0, canvas.width, canvas.height);\n}\n\n\nfunction predictDigit() {\n    var dataURL = canvas.toDataURL('image/png');\n    var img = new Image();\n    img.src = dataURL;\n    img.onload = function() {\n        // Convert image to base64\n        var canvas2 = document.createElement('canvas');\n        canvas2.width = img.width;\n        canvas2.height = img.height;\n        var ctx2 = canvas2.getContext('2d');\n        ctx2.drawImage(img, 0, 0);\n        var imageData = canvas2.toDataURL('image/png');\n        google.colab.kernel.invokeFunction('notebook.predict_digit', [imageData], {});\n    };\n}\n</script>\n"
          }
        },
        "d7b0791f2a5d41948f67f79459c11b81": {
          "model_module": "@jupyter-widgets/base",
          "model_name": "LayoutModel",
          "model_module_version": "1.2.0",
          "state": {
            "_model_module": "@jupyter-widgets/base",
            "_model_module_version": "1.2.0",
            "_model_name": "LayoutModel",
            "_view_count": null,
            "_view_module": "@jupyter-widgets/base",
            "_view_module_version": "1.2.0",
            "_view_name": "LayoutView",
            "align_content": null,
            "align_items": null,
            "align_self": null,
            "border": null,
            "bottom": null,
            "display": null,
            "flex": null,
            "flex_flow": null,
            "grid_area": null,
            "grid_auto_columns": null,
            "grid_auto_flow": null,
            "grid_auto_rows": null,
            "grid_column": null,
            "grid_gap": null,
            "grid_row": null,
            "grid_template_areas": null,
            "grid_template_columns": null,
            "grid_template_rows": null,
            "height": null,
            "justify_content": null,
            "justify_items": null,
            "left": null,
            "margin": null,
            "max_height": null,
            "max_width": null,
            "min_height": null,
            "min_width": null,
            "object_fit": null,
            "object_position": null,
            "order": null,
            "overflow": null,
            "overflow_x": null,
            "overflow_y": null,
            "padding": null,
            "right": null,
            "top": null,
            "visibility": null,
            "width": null
          }
        },
        "5931e2be798e451880c2ab01106320de": {
          "model_module": "@jupyter-widgets/controls",
          "model_name": "DescriptionStyleModel",
          "model_module_version": "1.5.0",
          "state": {
            "_model_module": "@jupyter-widgets/controls",
            "_model_module_version": "1.5.0",
            "_model_name": "DescriptionStyleModel",
            "_view_count": null,
            "_view_module": "@jupyter-widgets/base",
            "_view_module_version": "1.2.0",
            "_view_name": "StyleView",
            "description_width": ""
          }
        }
      }
    }
  },
  "cells": [
    {
      "cell_type": "code",
      "execution_count": 13,
      "metadata": {
        "id": "4WnCDGxEOYtw"
      },
      "outputs": [],
      "source": [
        "import numpy as np\n",
        "import pandas as pd\n",
        "import matplotlib.pyplot as plt\n",
        "import seaborn as sns\n",
        "from tensorflow.keras.datasets import mnist\n",
        "from tensorflow.keras.models import Sequential\n",
        "from tensorflow.keras.layers import Dense, Dropout, Flatten\n",
        "from tensorflow.keras.layers import Conv2D, MaxPooling2D, BatchNormalization\n",
        "from tensorflow.keras.utils import to_categorical\n",
        "from tensorflow.keras.preprocessing import image\n",
        "import ipywidgets as widgets\n",
        "from IPython.display import display, clear_output\n",
        "from PIL import Image\n",
        "import base64\n",
        "from io import BytesIO\n",
        "import tensorflow as tf\n",
        "from PIL import ImageOps"
      ]
    },
    {
      "cell_type": "code",
      "source": [
        "(X_train, y_train), (X_test, y_test) = mnist.load_data()"
      ],
      "metadata": {
        "id": "-PkccUWfOz73"
      },
      "execution_count": 14,
      "outputs": []
    },
    {
      "cell_type": "code",
      "source": [
        "num_images = 5\n",
        "images = X_train[:num_images]\n",
        "\n",
        "plt.figure(figsize=(10, 5))\n",
        "for i in range(num_images):\n",
        "    plt.subplot(1, num_images, i + 1)\n",
        "    plt.imshow(images[i], cmap='gray')\n",
        "    plt.title(f\"Label: {y_train[i]}\")\n",
        "    plt.axis('off')\n",
        "plt.show()"
      ],
      "metadata": {
        "colab": {
          "base_uri": "https://localhost:8080/",
          "height": 192
        },
        "id": "UcfZYE7SO8az",
        "outputId": "101d92a0-77a3-49a9-8d3c-c7ab620eefc6"
      },
      "execution_count": 15,
      "outputs": [
        {
          "output_type": "display_data",
          "data": {
            "text/plain": [
              "<Figure size 1000x500 with 5 Axes>"
            ],
            "image/png": "[encoded data removed]"
          },
          "metadata": {}
        }
      ]
    },
    {
      "cell_type": "code",
      "source": [
        "X_train = X_train.astype('float32')/255\n",
        "X_test = X_test.astype('float32')/255\n",
        "X_train = X_train.reshape(X_train.shape[0], 28, 28, 1)\n",
        "X_test = X_test.reshape(X_test.shape[0], 28, 28, 1)\n",
        "y_train = to_categorical(y_train, 10)\n",
        "y_test = to_categorical(y_test, 10)"
      ],
      "metadata": {
        "id": "cQmnWm6rO_vJ"
      },
      "execution_count": 16,
      "outputs": []
    },
    {
      "cell_type": "code",
      "source": [
        "model = Sequential()\n",
        "model.add(Conv2D(32, (3, 3), activation='relu', input_shape=(28, 28, 1)))\n",
        "model.add(MaxPooling2D((2, 2)))\n",
        "model.add(BatchNormalization())\n",
        "model.add(Conv2D(64, (3, 3), activation='relu'))\n",
        "model.add(MaxPooling2D((2, 2)))\n",
        "model.add(Flatten())\n",
        "model.add(Dense(64, activation='relu'))\n",
        "model.add(Dropout(0.2))\n",
        "model.add(Dense(10, activation='softmax'))"
      ],
      "metadata": {
        "colab": {
          "base_uri": "https://localhost:8080/"
        },
        "id": "JQl9CnWOPFKn",
        "outputId": "0e9a27d6-92b4-465b-92f3-4091ee299a7b"
      },
      "execution_count": 17,
      "outputs": [
        {
          "output_type": "stream",
          "name": "stderr",
          "text": [
            "/usr/local/lib/python3.10/dist-packages/keras/src/layers/convolutional/base_conv.py:107: UserWarning: Do not pass an `input_shape`/`input_dim` argument to a layer. When using Sequential models, prefer using an `Input(shape)` object as the first layer in the model instead.\n",
            "  super().__init__(activity_regularizer=activity_regularizer, **kwargs)\n"
          ]
        }
      ]
    },
    {
      "cell_type": "code",
      "source": [
        "model.compile(loss='categorical_crossentropy',optimizer='adam',metrics=['accuracy'])"
      ],
      "metadata": {
        "id": "n1JKadPFPVci"
      },
      "execution_count": 18,
      "outputs": []
    },
    {
      "cell_type": "code",
      "source": [
        "X_train = np.concatenate((X_train,X_test))\n",
        "y_train = np.concatenate((y_train,y_test))"
      ],
      "metadata": {
        "id": "ZQy34sPMPtcx"
      },
      "execution_count": 19,
      "outputs": []
    },
    {
      "cell_type": "code",
      "source": [
        "model.fit(X_train,y_train,batch_size=32,epochs=20,validation_data=(X_test,y_test),validation_split=0.2)"
      ],
      "metadata": {
        "colab": {
          "base_uri": "https://localhost:8080/"
        },
        "id": "bkIQZpOtPYJm",
        "outputId": "b044f86d-090e-4d9e-8ff4-1c4b69e15997"
      },
      "execution_count": 20,
      "outputs": [
        {
          "output_type": "stream",
          "name": "stdout",
          "text": [
            "Epoch 1/20\n",
            "\u001b[1m2188/2188\u001b[0m \u001b[32m━━━━━━━━━━━━━━━━━━━━\u001b[0m\u001b[37m\u001b[0m \u001b[1m15s\u001b[0m 4ms/step - accuracy: 0.9072 - loss: 0.2917 - val_accuracy: 0.9867 - val_loss: 0.0403\n",
            "Epoch 2/20\n",
            "\u001b[1m2188/2188\u001b[0m \u001b[32m━━━━━━━━━━━━━━━━━━━━\u001b[0m\u001b[37m\u001b[0m \u001b[1m13s\u001b[0m 3ms/step - accuracy: 0.9818 - loss: 0.0601 - val_accuracy: 0.9924 - val_loss: 0.0216\n",
            "Epoch 3/20\n",
            "\u001b[1m2188/2188\u001b[0m \u001b[32m━━━━━━━━━━━━━━━━━━━━\u001b[0m\u001b[37m\u001b[0m \u001b[1m10s\u001b[0m 3ms/step - accuracy: 0.9868 - loss: 0.0439 - val_accuracy: 0.9957 - val_loss: 0.0119\n",
            "Epoch 4/20\n",
            "\u001b[1m2188/2188\u001b[0m \u001b[32m━━━━━━━━━━━━━━━━━━━━\u001b[0m\u001b[37m\u001b[0m \u001b[1m11s\u001b[0m 3ms/step - accuracy: 0.9898 - loss: 0.0334 - val_accuracy: 0.9964 - val_loss: 0.0113\n",
            "Epoch 5/20\n",
            "\u001b[1m2188/2188\u001b[0m \u001b[32m━━━━━━━━━━━━━━━━━━━━\u001b[0m\u001b[37m\u001b[0m \u001b[1m10s\u001b[0m 3ms/step - accuracy: 0.9926 - loss: 0.0250 - val_accuracy: 0.9964 - val_loss: 0.0092\n",
            "Epoch 6/20\n",
            "\u001b[1m2188/2188\u001b[0m \u001b[32m━━━━━━━━━━━━━━━━━━━━\u001b[0m\u001b[37m\u001b[0m \u001b[1m6s\u001b[0m 3ms/step - accuracy: 0.9925 - loss: 0.0223 - val_accuracy: 0.9967 - val_loss: 0.0078\n",
            "Epoch 7/20\n",
            "\u001b[1m2188/2188\u001b[0m \u001b[32m━━━━━━━━━━━━━━━━━━━━\u001b[0m\u001b[37m\u001b[0m \u001b[1m6s\u001b[0m 3ms/step - accuracy: 0.9943 - loss: 0.0191 - val_accuracy: 0.9979 - val_loss: 0.0063\n",
            "Epoch 8/20\n",
            "\u001b[1m2188/2188\u001b[0m \u001b[32m━━━━━━━━━━━━━━━━━━━━\u001b[0m\u001b[37m\u001b[0m \u001b[1m6s\u001b[0m 3ms/step - accuracy: 0.9945 - loss: 0.0164 - val_accuracy: 0.9968 - val_loss: 0.0092\n",
            "Epoch 9/20\n",
            "\u001b[1m2188/2188\u001b[0m \u001b[32m━━━━━━━━━━━━━━━━━━━━\u001b[0m\u001b[37m\u001b[0m \u001b[1m10s\u001b[0m 3ms/step - accuracy: 0.9946 - loss: 0.0174 - val_accuracy: 0.9958 - val_loss: 0.0110\n",
            "Epoch 10/20\n",
            "\u001b[1m2188/2188\u001b[0m \u001b[32m━━━━━━━━━━━━━━━━━━━━\u001b[0m\u001b[37m\u001b[0m \u001b[1m6s\u001b[0m 3ms/step - accuracy: 0.9954 - loss: 0.0142 - val_accuracy: 0.9967 - val_loss: 0.0092\n",
            "Epoch 11/20\n",
            "\u001b[1m2188/2188\u001b[0m \u001b[32m━━━━━━━━━━━━━━━━━━━━\u001b[0m\u001b[37m\u001b[0m \u001b[1m6s\u001b[0m 3ms/step - accuracy: 0.9958 - loss: 0.0135 - val_accuracy: 0.9978 - val_loss: 0.0059\n",
            "Epoch 12/20\n",
            "\u001b[1m2188/2188\u001b[0m \u001b[32m━━━━━━━━━━━━━━━━━━━━\u001b[0m\u001b[37m\u001b[0m \u001b[1m11s\u001b[0m 3ms/step - accuracy: 0.9960 - loss: 0.0131 - val_accuracy: 0.9981 - val_loss: 0.0057\n",
            "Epoch 13/20\n",
            "\u001b[1m2188/2188\u001b[0m \u001b[32m━━━━━━━━━━━━━━━━━━━━\u001b[0m\u001b[37m\u001b[0m \u001b[1m10s\u001b[0m 3ms/step - accuracy: 0.9963 - loss: 0.0114 - val_accuracy: 0.9989 - val_loss: 0.0043\n",
            "Epoch 14/20\n",
            "\u001b[1m2188/2188\u001b[0m \u001b[32m━━━━━━━━━━━━━━━━━━━━\u001b[0m\u001b[37m\u001b[0m \u001b[1m7s\u001b[0m 3ms/step - accuracy: 0.9970 - loss: 0.0107 - val_accuracy: 0.9984 - val_loss: 0.0042\n",
            "Epoch 15/20\n",
            "\u001b[1m2188/2188\u001b[0m \u001b[32m━━━━━━━━━━━━━━━━━━━━\u001b[0m\u001b[37m\u001b[0m \u001b[1m6s\u001b[0m 3ms/step - accuracy: 0.9965 - loss: 0.0098 - val_accuracy: 0.9986 - val_loss: 0.0044\n",
            "Epoch 16/20\n",
            "\u001b[1m2188/2188\u001b[0m \u001b[32m━━━━━━━━━━━━━━━━━━━━\u001b[0m\u001b[37m\u001b[0m \u001b[1m7s\u001b[0m 3ms/step - accuracy: 0.9963 - loss: 0.0116 - val_accuracy: 0.9984 - val_loss: 0.0049\n",
            "Epoch 17/20\n",
            "\u001b[1m2188/2188\u001b[0m \u001b[32m━━━━━━━━━━━━━━━━━━━━\u001b[0m\u001b[37m\u001b[0m \u001b[1m6s\u001b[0m 3ms/step - accuracy: 0.9970 - loss: 0.0097 - val_accuracy: 0.9965 - val_loss: 0.0122\n",
            "Epoch 18/20\n",
            "\u001b[1m2188/2188\u001b[0m \u001b[32m━━━━━━━━━━━━━━━━━━━━\u001b[0m\u001b[37m\u001b[0m \u001b[1m10s\u001b[0m 3ms/step - accuracy: 0.9966 - loss: 0.0116 - val_accuracy: 0.9989 - val_loss: 0.0045\n",
            "Epoch 19/20\n",
            "\u001b[1m2188/2188\u001b[0m \u001b[32m━━━━━━━━━━━━━━━━━━━━\u001b[0m\u001b[37m\u001b[0m \u001b[1m8s\u001b[0m 3ms/step - accuracy: 0.9970 - loss: 0.0093 - val_accuracy: 0.9994 - val_loss: 0.0026\n",
            "Epoch 20/20\n",
            "\u001b[1m2188/2188\u001b[0m \u001b[32m━━━━━━━━━━━━━━━━━━━━\u001b[0m\u001b[37m\u001b[0m \u001b[1m6s\u001b[0m 3ms/step - accuracy: 0.9972 - loss: 0.0087 - val_accuracy: 0.9995 - val_loss: 0.0013\n"
          ]
        },
        {
          "output_type": "execute_result",
          "data": {
            "text/plain": [
              "<keras.src.callbacks.history.History at 0x7c68431e82b0>"
            ]
          },
          "metadata": {},
          "execution_count": 20
        }
      ]
    },
    {
      "cell_type": "code",
      "source": [
        "model.save('my_model.keras')"
      ],
      "metadata": {
        "id": "zlO2YHdyQA80"
      },
      "execution_count": 21,
      "outputs": []
    },
    {
      "cell_type": "code",
      "source": [
        "model = tf.keras.models.load_model('/content/my_model.keras')"
      ],
      "metadata": {
        "id": "GMd5DamERCuO"
      },
      "execution_count": 22,
      "outputs": []
    },
    {
      "cell_type": "code",
      "source": [
        "def preprocess_image(image_data):\n",
        "    image_data = image_data.split(\",\")[1]\n",
        "    image = Image.open(BytesIO(base64.b64decode(image_data))).convert('L')\n",
        "    plt.imshow(image, cmap='gray')\n",
        "    plt.title(\"Original Captured Image\")\n",
        "    plt.axis('off')\n",
        "    plt.show()\n",
        "    image = image.resize((28, 28))\n",
        "    image = ImageOps.invert(image)\n",
        "    image = np.array(image).astype('float32') / 255.0\n",
        "    image = image.reshape(1, 28, 28, 1)\n",
        "\n",
        "    return image\n",
        "\n",
        "def predict_digit(image_data):\n",
        "    image = preprocess_image(image_data)\n",
        "    prediction = model.predict(image)\n",
        "    print(f\"Prediction Probabilities: {prediction}\")\n",
        "\n",
        "    predicted_digit = np.argmax(prediction)\n",
        "    print(f\"Predicted Digit: {predicted_digit}\")\n",
        "\n",
        "from google.colab import output\n",
        "output.register_callback('notebook.predict_digit', predict_digit)\n"
      ],
      "metadata": {
        "id": "nC40hJz3RE2T"
      },
      "execution_count": 23,
      "outputs": []
    },
    {
      "cell_type": "code",
      "source": [
        "canvas_html = \"\"\"\n",
        "<canvas id=\"canvas\" width=256 height=256 style=\"border:1px solid #000000;\"></canvas>\n",
        "<br>\n",
        "<button onclick=\"clearCanvas()\">Clear</button>\n",
        "<button onclick=\"predictDigit()\">Predict</button>\n",
        "<script>\n",
        "var canvas = document.getElementById('canvas');\n",
        "var ctx = canvas.getContext('2d');\n",
        "var drawing = false;\n",
        "\n",
        "canvas.addEventListener('mousedown', function(e) {\n",
        "    drawing = true;\n",
        "    draw(e);\n",
        "});\n",
        "\n",
        "canvas.addEventListener('mousemove', function(e) {\n",
        "    if (drawing) {\n",
        "        draw(e);\n",
        "    }\n",
        "});\n",
        "\n",
        "canvas.addEventListener('mouseup', function() {\n",
        "    drawing = false;\n",
        "    ctx.beginPath();\n",
        "});\n",
        "\n",
        "canvas.addEventListener('mouseleave', function() {\n",
        "    drawing = false;\n",
        "    ctx.beginPath();\n",
        "});\n",
        "\n",
        "function draw(e) {\n",
        "    ctx.lineWidth = 20;  // Increase line width for better visibility\n",
        "    ctx.lineCap = 'round';\n",
        "    ctx.strokeStyle = 'white';  // Ensure the stroke color is white (if the background is black)\n",
        "    ctx.lineTo(e.clientX - canvas.getBoundingClientRect().left, e.clientY - canvas.getBoundingClientRect().top);\n",
        "    ctx.stroke();\n",
        "    ctx.beginPath();\n",
        "    ctx.moveTo(e.clientX - canvas.getBoundingClientRect().left, e.clientY - canvas.getBoundingClientRect().top);\n",
        "}\n",
        "\n",
        "function clearCanvas() {\n",
        "    ctx.clearRect(0, 0, canvas.width, canvas.height);\n",
        "}\n",
        "\n",
        "\n",
        "function predictDigit() {\n",
        "    var dataURL = canvas.toDataURL('image/png');\n",
        "    var img = new Image();\n",
        "    img.src = dataURL;\n",
        "    img.onload = function() {\n",
        "        // Convert image to base64\n",
        "        var canvas2 = document.createElement('canvas');\n",
        "        canvas2.width = img.width;\n",
        "        canvas2.height = img.height;\n",
        "        var ctx2 = canvas2.getContext('2d');\n",
        "        ctx2.drawImage(img, 0, 0);\n",
        "        var imageData = canvas2.toDataURL('image/png');\n",
        "        google.colab.kernel.invokeFunction('notebook.predict_digit', [imageData], {});\n",
        "    };\n",
        "}\n",
        "</script>\n",
        "\"\"\"\n",
        "display(widgets.HTML(canvas_html))"
      ],
      "metadata": {
        "colab": {
          "base_uri": "https://localhost:8080/",
          "height": 1000,
          "referenced_widgets": [
            "ade0375253a243c9a1fe5842f3b6b7f6",
            "d7b0791f2a5d41948f67f79459c11b81",
            "5931e2be798e451880c2ab01106320de"
          ]
        },
        "id": "Va68PK2_RHFz",
        "outputId": "14867861-ddf7-4715-c30a-3e251401cfd2"
      },
      "execution_count": 25,
      "outputs": [
        {
          "output_type": "display_data",
          "data": {
            "text/plain": [
              "HTML(value='\\n<canvas id=\"canvas\" width=256 height=256 style=\"border:1px solid #000000;\"></canvas>\\n<br>\\n<but…"
            ],
            "application/vnd.jupyter.widget-view+json": {
              "version_major": 2,
              "version_minor": 0,
              "model_id": "ade0375253a243c9a1fe5842f3b6b7f6"
            }
          },
          "metadata": {}
        },
        {
          "output_type": "display_data",
          "data": {
            "text/plain": [
              "<Figure size 640x480 with 1 Axes>"
            ],
            "image/png": "[encoded data removed]"
          },
          "metadata": {}
        },
        {
          "output_type": "stream",
          "name": "stdout",
          "text": [
            "\u001b[1m1/1\u001b[0m \u001b[32m━━━━━━━━━━━━━━━━━━━━\u001b[0m\u001b[37m\u001b[0m \u001b[1m0s\u001b[0m 24ms/step\n",
            "Prediction Probabilities: [[3.5002250e-09 3.0517550e-14 2.0442708e-12 5.5328342e-06 1.0422064e-10\n",
            "  1.2543127e-13 1.2105415e-23 7.6127242e-07 4.9419126e-16 9.9999368e-01]]\n",
            "Predicted Digit: 9\n"
          ]
        },
        {
          "output_type": "display_data",
          "data": {
            "text/plain": [
              "<Figure size 640x480 with 1 Axes>"
            ],
            "image/png": "[encoded data removed]"
          },
          "metadata": {}
        },
        {
          "output_type": "stream",
          "name": "stdout",
          "text": [
            "\u001b[1m1/1\u001b[0m \u001b[32m━━━━━━━━━━━━━━━━━━━━\u001b[0m\u001b[37m\u001b[0m \u001b[1m0s\u001b[0m 15ms/step\n",
            "Prediction Probabilities: [[2.5656546e-10 1.0000000e+00 2.1282129e-09 1.0402877e-15 3.5251116e-12\n",
            "  3.8489533e-15 5.0342766e-08 1.5801433e-08 6.5050093e-10 6.8188614e-16]]\n",
            "Predicted Digit: 1\n"
          ]
        },
        {
          "output_type": "display_data",
          "data": {
            "text/plain": [
              "<Figure size 640x480 with 1 Axes>"
            ],
            "image/png": "[encoded data removed]"
          },
          "metadata": {}
        },
        {
          "output_type": "stream",
          "name": "stdout",
          "text": [
            "\u001b[1m1/1\u001b[0m \u001b[32m━━━━━━━━━━━━━━━━━━━━\u001b[0m\u001b[37m\u001b[0m \u001b[1m0s\u001b[0m 16ms/step\n",
            "Prediction Probabilities: [[1.4372893e-13 1.0050752e-13 9.9980855e-01 1.8031904e-10 9.7934036e-11\n",
            "  1.0040296e-27 3.2354423e-25 1.9142838e-04 1.9284346e-12 3.5548219e-17]]\n",
            "Predicted Digit: 2\n"
          ]
        }
      ]
    },
    {
      "cell_type": "code",
      "source": [],
      "metadata": {
        "id": "QwHf2nv0RJiO"
      },
      "execution_count": null,
      "outputs": []
    }
  ]
}