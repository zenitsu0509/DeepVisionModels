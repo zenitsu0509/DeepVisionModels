{
  "nbformat": 4,
  "nbformat_minor": 0,
  "metadata": {
    "colab": {
      "provenance": [],
      "gpuType": "T4"
    },
    "kernelspec": {
      "name": "python3",
      "display_name": "Python 3"
    },
    "language_info": {
      "name": "python"
    },
    "accelerator": "GPU",
    "widgets": {
      "application/vnd.jupyter.widget-state+json": {
        "5653103804a14bdea9ff8f80a61bbe26": {
          "model_module": "@jupyter-widgets/controls",
          "model_name": "HTMLModel",
          "model_module_version": "1.5.0",
          "state": {
            "_dom_classes": [],
            "_model_module": "@jupyter-widgets/controls",
            "_model_module_version": "1.5.0",
            "_model_name": "HTMLModel",
            "_view_count": null,
            "_view_module": "@jupyter-widgets/controls",
            "_view_module_version": "1.5.0",
            "_view_name": "HTMLView",
            "description": "",
            "description_tooltip": null,
            "layout": "IPY_MODEL_06427442188d4f3cb9bc09bd70c3fa5d",
            "placeholder": "​",
            "style": "IPY_MODEL_09d22d1b04274adf95fa83b310d967fb",
            "value": "\n<canvas id=\"canvas\" width=256 height=256 style=\"border:1px solid #000000;\"></canvas>\n<br>\n<button onclick=\"clearCanvas()\">Clear</button>\n<button onclick=\"predictDigit()\">Predict</button>\n<script>\nvar canvas = document.getElementById('canvas');\nvar ctx = canvas.getContext('2d');\nvar drawing = false;\n\ncanvas.addEventListener('mousedown', function(e) {\n    drawing = true;\n    draw(e);\n});\n\ncanvas.addEventListener('mousemove', function(e) {\n    if (drawing) {\n        draw(e);\n    }\n});\n\ncanvas.addEventListener('mouseup', function() {\n    drawing = false;\n    ctx.beginPath();\n});\n\ncanvas.addEventListener('mouseleave', function() {\n    drawing = false;\n    ctx.beginPath();\n});\n\nfunction draw(e) {\n    ctx.lineWidth = 20;  // Increase line width for better visibility\n    ctx.lineCap = 'round';\n    ctx.strokeStyle = 'white';  // Ensure the stroke color is white (if the background is black)\n    ctx.lineTo(e.clientX - canvas.getBoundingClientRect().left, e.clientY - canvas.getBoundingClientRect().top);\n    ctx.stroke();\n    ctx.beginPath();\n    ctx.moveTo(e.clientX - canvas.getBoundingClientRect().left, e.clientY - canvas.getBoundingClientRect().top);\n}\n\nfunction clearCanvas() {\n    ctx.clearRect(0, 0, canvas.width, canvas.height);\n}\n\n\nfunction predictDigit() {\n    var dataURL = canvas.toDataURL('image/png');\n    var img = new Image();\n    img.src = dataURL;\n    img.onload = function() {\n        // Convert image to base64\n        var canvas2 = document.createElement('canvas');\n        canvas2.width = img.width;\n        canvas2.height = img.height;\n        var ctx2 = canvas2.getContext('2d');\n        ctx2.drawImage(img, 0, 0);\n        var imageData = canvas2.toDataURL('image/png');\n        google.colab.kernel.invokeFunction('notebook.predict_digit', [imageData], {});\n    };\n}\n</script>\n"
          }
        },
        "06427442188d4f3cb9bc09bd70c3fa5d": {
          "model_module": "@jupyter-widgets/base",
          "model_name": "LayoutModel",
          "model_module_version": "1.2.0",
          "state": {
            "_model_module": "@jupyter-widgets/base",
            "_model_module_version": "1.2.0",
            "_model_name": "LayoutModel",
            "_view_count": null,
            "_view_module": "@jupyter-widgets/base",
            "_view_module_version": "1.2.0",
            "_view_name": "LayoutView",
            "align_content": null,
            "align_items": null,
            "align_self": null,
            "border": null,
            "bottom": null,
            "display": null,
            "flex": null,
            "flex_flow": null,
            "grid_area": null,
            "grid_auto_columns": null,
            "grid_auto_flow": null,
            "grid_auto_rows": null,
            "grid_column": null,
            "grid_gap": null,
            "grid_row": null,
            "grid_template_areas": null,
            "grid_template_columns": null,
            "grid_template_rows": null,
            "height": null,
            "justify_content": null,
            "justify_items": null,
            "left": null,
            "margin": null,
            "max_height": null,
            "max_width": null,
            "min_height": null,
            "min_width": null,
            "object_fit": null,
            "object_position": null,
            "order": null,
            "overflow": null,
            "overflow_x": null,
            "overflow_y": null,
            "padding": null,
            "right": null,
            "top": null,
            "visibility": null,
            "width": null
          }
        },
        "09d22d1b04274adf95fa83b310d967fb": {
          "model_module": "@jupyter-widgets/controls",
          "model_name": "DescriptionStyleModel",
          "model_module_version": "1.5.0",
          "state": {
            "_model_module": "@jupyter-widgets/controls",
            "_model_module_version": "1.5.0",
            "_model_name": "DescriptionStyleModel",
            "_view_count": null,
            "_view_module": "@jupyter-widgets/base",
            "_view_module_version": "1.2.0",
            "_view_name": "StyleView",
            "description_width": ""
          }
        }
      }
    }
  },
  "cells": [
    {
      "cell_type": "code",
      "execution_count": 70,
      "metadata": {
        "id": "o-0-6gWeDXVx"
      },
      "outputs": [],
      "source": [
        "import numpy as np\n",
        "import pandas as pd\n",
        "import matplotlib.pyplot as plt\n",
        "import seaborn as sns\n",
        "from tensorflow.keras.datasets import mnist\n",
        "from tensorflow.keras.models import Sequential\n",
        "from tensorflow.keras.layers import Dense, Dropout, Flatten\n",
        "from tensorflow.keras.layers import Conv2D, MaxPooling2D, BatchNormalization\n",
        "from tensorflow.keras.utils import to_categorical\n",
        "from tensorflow.keras.preprocessing import image\n",
        "import ipywidgets as widgets\n",
        "from IPython.display import display, clear_output\n",
        "from PIL import Image\n",
        "import base64\n",
        "from io import BytesIO\n",
        "import tensorflow as tf\n",
        "from PIL import ImageOps"
      ]
    },
    {
      "cell_type": "code",
      "source": [
        "(X_train, y_train), (X_test, y_test) = mnist.load_data()"
      ],
      "metadata": {
        "id": "Z94ygpMjDywk"
      },
      "execution_count": 56,
      "outputs": []
    },
    {
      "cell_type": "code",
      "source": [
        "num_images = 5\n",
        "images = X_train[:num_images]\n",
        "\n",
        "plt.figure(figsize=(10, 5))\n",
        "for i in range(num_images):\n",
        "    plt.subplot(1, num_images, i + 1)\n",
        "    plt.imshow(images[i], cmap='gray')\n",
        "    plt.title(f\"Label: {y_train[i]}\")\n",
        "    plt.axis('off')\n",
        "plt.show()"
      ],
      "metadata": {
        "colab": {
          "base_uri": "https://localhost:8080/",
          "height": 192
        },
        "id": "V1VM-MyfD7JC",
        "outputId": "30c91770-3ccb-469b-c9a7-8501a7c772f2"
      },
      "execution_count": 57,
      "outputs": [
        {
          "output_type": "display_data",
          "data": {
            "text/plain": [
              "<Figure size 1000x500 with 5 Axes>"
            ],
            "image/png": "[encoded data removed]"
          },
          "metadata": {}
        }
      ]
    },
    {
      "cell_type": "code",
      "source": [
        "X_train = X_train.astype('float32')/255\n",
        "X_test = X_test.astype('float32')/255"
      ],
      "metadata": {
        "id": "XkQHmwz1EWks"
      },
      "execution_count": 58,
      "outputs": []
    },
    {
      "cell_type": "code",
      "source": [
        "X_train = X_train.reshape(X_train.shape[0], 28, 28, 1)\n",
        "X_test = X_test.reshape(X_test.shape[0], 28, 28, 1)\n",
        "y_train = to_categorical(y_train, 10)\n",
        "y_test = to_categorical(y_test, 10)"
      ],
      "metadata": {
        "id": "8V8FSyi0E4VG"
      },
      "execution_count": 59,
      "outputs": []
    },
    {
      "cell_type": "code",
      "source": [
        "y_train"
      ],
      "metadata": {
        "colab": {
          "base_uri": "https://localhost:8080/"
        },
        "id": "xrizxTXRIiMU",
        "outputId": "f417b350-0215-4c15-de88-73b52aa30f24"
      },
      "execution_count": 60,
      "outputs": [
        {
          "output_type": "execute_result",
          "data": {
            "text/plain": [
              "array([[0., 0., 0., ..., 0., 0., 0.],\n",
              "       [1., 0., 0., ..., 0., 0., 0.],\n",
              "       [0., 0., 0., ..., 0., 0., 0.],\n",
              "       ...,\n",
              "       [0., 0., 0., ..., 0., 0., 0.],\n",
              "       [0., 0., 0., ..., 0., 0., 0.],\n",
              "       [0., 0., 0., ..., 0., 1., 0.]])"
            ]
          },
          "metadata": {},
          "execution_count": 60
        }
      ]
    },
    {
      "cell_type": "code",
      "source": [
        "model = Sequential()\n",
        "model.add(Conv2D(32, (3, 3), activation='relu', input_shape=(28, 28, 1)))\n",
        "model.add(MaxPooling2D((2, 2)))\n",
        "model.add(BatchNormalization())\n",
        "\n",
        "      # Second Convolutional Layer\n",
        "model.add(Conv2D(64, (3, 3), activation='relu'))\n",
        "model.add(MaxPooling2D((2, 2)))\n",
        "model.add(BatchNormalization())\n",
        "\n",
        "      # Third Convolutional Layer\n",
        "model.add(Conv2D(128, (3, 3), activation='relu'))\n",
        "model.add(MaxPooling2D((2, 2)))\n",
        "model.add(BatchNormalization())\n",
        "\n",
        "      # Flatten the output\n",
        "model.add(Flatten())\n",
        "\n",
        "      # Fully Connected Layer\n",
        "model.add(Dense(128, activation='relu'))\n",
        "model.add(Dropout(0.5))  # Dropout for regularization\n",
        "\n",
        "      # Output Layer\n",
        "model.add(Dense(10, activation='softmax'))\n"
      ],
      "metadata": {
        "id": "7tdrfPteHZdl",
        "colab": {
          "base_uri": "https://localhost:8080/"
        },
        "outputId": "c35a97f2-1d6e-4c22-fb54-92699b0f3aef"
      },
      "execution_count": 72,
      "outputs": [
        {
          "output_type": "stream",
          "name": "stderr",
          "text": [
            "/usr/local/lib/python3.10/dist-packages/keras/src/layers/convolutional/base_conv.py:107: UserWarning: Do not pass an `input_shape`/`input_dim` argument to a layer. When using Sequential models, prefer using an `Input(shape)` object as the first layer in the model instead.\n",
            "  super().__init__(activity_regularizer=activity_regularizer, **kwargs)\n"
          ]
        }
      ]
    },
    {
      "cell_type": "code",
      "source": [
        "model.compile(loss='categorical_crossentropy',optimizer='adam',metrics=['accuracy'])"
      ],
      "metadata": {
        "id": "8AZIfxYoHvgA"
      },
      "execution_count": 73,
      "outputs": []
    },
    {
      "cell_type": "code",
      "source": [
        "model.fit(X_train,y_train,batch_size=32,epochs=20,validation_data=(X_test,y_test),validation_split=0.2)"
      ],
      "metadata": {
        "colab": {
          "base_uri": "https://localhost:8080/"
        },
        "id": "EEpLRQBhHzLn",
        "outputId": "0a00129e-3384-402d-e28d-d15564add21f"
      },
      "execution_count": 74,
      "outputs": [
        {
          "output_type": "stream",
          "name": "stdout",
          "text": [
            "Epoch 1/20\n",
            "\u001b[1m1875/1875\u001b[0m \u001b[32m━━━━━━━━━━━━━━━━━━━━\u001b[0m\u001b[37m\u001b[0m \u001b[1m12s\u001b[0m 4ms/step - accuracy: 0.8942 - loss: 0.3477 - val_accuracy: 0.9811 - val_loss: 0.0644\n",
            "Epoch 2/20\n",
            "\u001b[1m1875/1875\u001b[0m \u001b[32m━━━━━━━━━━━━━━━━━━━━\u001b[0m\u001b[37m\u001b[0m \u001b[1m5s\u001b[0m 3ms/step - accuracy: 0.9755 - loss: 0.0825 - val_accuracy: 0.9846 - val_loss: 0.0530\n",
            "Epoch 3/20\n",
            "\u001b[1m1875/1875\u001b[0m \u001b[32m━━━━━━━━━━━━━━━━━━━━\u001b[0m\u001b[37m\u001b[0m \u001b[1m10s\u001b[0m 3ms/step - accuracy: 0.9806 - loss: 0.0649 - val_accuracy: 0.9843 - val_loss: 0.0574\n",
            "Epoch 4/20\n",
            "\u001b[1m1875/1875\u001b[0m \u001b[32m━━━━━━━━━━━━━━━━━━━━\u001b[0m\u001b[37m\u001b[0m \u001b[1m10s\u001b[0m 3ms/step - accuracy: 0.9838 - loss: 0.0553 - val_accuracy: 0.9880 - val_loss: 0.0470\n",
            "Epoch 5/20\n",
            "\u001b[1m1875/1875\u001b[0m \u001b[32m━━━━━━━━━━━━━━━━━━━━\u001b[0m\u001b[37m\u001b[0m \u001b[1m10s\u001b[0m 3ms/step - accuracy: 0.9865 - loss: 0.0442 - val_accuracy: 0.9890 - val_loss: 0.0406\n",
            "Epoch 6/20\n",
            "\u001b[1m1875/1875\u001b[0m \u001b[32m━━━━━━━━━━━━━━━━━━━━\u001b[0m\u001b[37m\u001b[0m \u001b[1m7s\u001b[0m 4ms/step - accuracy: 0.9897 - loss: 0.0356 - val_accuracy: 0.9867 - val_loss: 0.0493\n",
            "Epoch 7/20\n",
            "\u001b[1m1875/1875\u001b[0m \u001b[32m━━━━━━━━━━━━━━━━━━━━\u001b[0m\u001b[37m\u001b[0m \u001b[1m10s\u001b[0m 3ms/step - accuracy: 0.9896 - loss: 0.0345 - val_accuracy: 0.9892 - val_loss: 0.0413\n",
            "Epoch 8/20\n",
            "\u001b[1m1875/1875\u001b[0m \u001b[32m━━━━━━━━━━━━━━━━━━━━\u001b[0m\u001b[37m\u001b[0m \u001b[1m10s\u001b[0m 3ms/step - accuracy: 0.9912 - loss: 0.0309 - val_accuracy: 0.9885 - val_loss: 0.0428\n",
            "Epoch 9/20\n",
            "\u001b[1m1875/1875\u001b[0m \u001b[32m━━━━━━━━━━━━━━━━━━━━\u001b[0m\u001b[37m\u001b[0m \u001b[1m10s\u001b[0m 3ms/step - accuracy: 0.9905 - loss: 0.0296 - val_accuracy: 0.9891 - val_loss: 0.0477\n",
            "Epoch 10/20\n",
            "\u001b[1m1875/1875\u001b[0m \u001b[32m━━━━━━━━━━━━━━━━━━━━\u001b[0m\u001b[37m\u001b[0m \u001b[1m10s\u001b[0m 3ms/step - accuracy: 0.9927 - loss: 0.0247 - val_accuracy: 0.9910 - val_loss: 0.0455\n",
            "Epoch 11/20\n",
            "\u001b[1m1875/1875\u001b[0m \u001b[32m━━━━━━━━━━━━━━━━━━━━\u001b[0m\u001b[37m\u001b[0m \u001b[1m6s\u001b[0m 3ms/step - accuracy: 0.9933 - loss: 0.0213 - val_accuracy: 0.9901 - val_loss: 0.0404\n",
            "Epoch 12/20\n",
            "\u001b[1m1875/1875\u001b[0m \u001b[32m━━━━━━━━━━━━━━━━━━━━\u001b[0m\u001b[37m\u001b[0m \u001b[1m6s\u001b[0m 3ms/step - accuracy: 0.9935 - loss: 0.0226 - val_accuracy: 0.9884 - val_loss: 0.0493\n",
            "Epoch 13/20\n",
            "\u001b[1m1875/1875\u001b[0m \u001b[32m━━━━━━━━━━━━━━━━━━━━\u001b[0m\u001b[37m\u001b[0m \u001b[1m5s\u001b[0m 3ms/step - accuracy: 0.9938 - loss: 0.0187 - val_accuracy: 0.9887 - val_loss: 0.0532\n",
            "Epoch 14/20\n",
            "\u001b[1m1875/1875\u001b[0m \u001b[32m━━━━━━━━━━━━━━━━━━━━\u001b[0m\u001b[37m\u001b[0m \u001b[1m10s\u001b[0m 3ms/step - accuracy: 0.9944 - loss: 0.0181 - val_accuracy: 0.9898 - val_loss: 0.0522\n",
            "Epoch 15/20\n",
            "\u001b[1m1875/1875\u001b[0m \u001b[32m━━━━━━━━━━━━━━━━━━━━\u001b[0m\u001b[37m\u001b[0m \u001b[1m10s\u001b[0m 3ms/step - accuracy: 0.9939 - loss: 0.0201 - val_accuracy: 0.9891 - val_loss: 0.0504\n",
            "Epoch 16/20\n",
            "\u001b[1m1875/1875\u001b[0m \u001b[32m━━━━━━━━━━━━━━━━━━━━\u001b[0m\u001b[37m\u001b[0m \u001b[1m6s\u001b[0m 3ms/step - accuracy: 0.9949 - loss: 0.0169 - val_accuracy: 0.9899 - val_loss: 0.0459\n",
            "Epoch 17/20\n",
            "\u001b[1m1875/1875\u001b[0m \u001b[32m━━━━━━━━━━━━━━━━━━━━\u001b[0m\u001b[37m\u001b[0m \u001b[1m10s\u001b[0m 3ms/step - accuracy: 0.9948 - loss: 0.0157 - val_accuracy: 0.9893 - val_loss: 0.0477\n",
            "Epoch 18/20\n",
            "\u001b[1m1875/1875\u001b[0m \u001b[32m━━━━━━━━━━━━━━━━━━━━\u001b[0m\u001b[37m\u001b[0m \u001b[1m10s\u001b[0m 3ms/step - accuracy: 0.9947 - loss: 0.0164 - val_accuracy: 0.9904 - val_loss: 0.0450\n",
            "Epoch 19/20\n",
            "\u001b[1m1875/1875\u001b[0m \u001b[32m━━━━━━━━━━━━━━━━━━━━\u001b[0m\u001b[37m\u001b[0m \u001b[1m6s\u001b[0m 3ms/step - accuracy: 0.9951 - loss: 0.0159 - val_accuracy: 0.9901 - val_loss: 0.0490\n",
            "Epoch 20/20\n",
            "\u001b[1m1875/1875\u001b[0m \u001b[32m━━━━━━━━━━━━━━━━━━━━\u001b[0m\u001b[37m\u001b[0m \u001b[1m5s\u001b[0m 3ms/step - accuracy: 0.9958 - loss: 0.0135 - val_accuracy: 0.9890 - val_loss: 0.0688\n"
          ]
        },
        {
          "output_type": "execute_result",
          "data": {
            "text/plain": [
              "<keras.src.callbacks.history.History at 0x7b07eefd10f0>"
            ]
          },
          "metadata": {},
          "execution_count": 74
        }
      ]
    },
    {
      "cell_type": "code",
      "source": [
        "model.evaluate(X_test,y_test)"
      ],
      "metadata": {
        "colab": {
          "base_uri": "https://localhost:8080/"
        },
        "id": "_ln9qJOUnC16",
        "outputId": "62faf0ed-61ee-4bad-e1bb-9eb72cbf388a"
      },
      "execution_count": 75,
      "outputs": [
        {
          "output_type": "stream",
          "name": "stdout",
          "text": [
            "\u001b[1m313/313\u001b[0m \u001b[32m━━━━━━━━━━━━━━━━━━━━\u001b[0m\u001b[37m\u001b[0m \u001b[1m1s\u001b[0m 2ms/step - accuracy: 0.9869 - loss: 0.0848\n"
          ]
        },
        {
          "output_type": "execute_result",
          "data": {
            "text/plain": [
              "[0.06882002204656601, 0.9890000224113464]"
            ]
          },
          "metadata": {},
          "execution_count": 75
        }
      ]
    },
    {
      "cell_type": "code",
      "source": [
        "model.save('my_model.keras')"
      ],
      "metadata": {
        "id": "NzOQAEWDiaIk"
      },
      "execution_count": 76,
      "outputs": []
    },
    {
      "cell_type": "code",
      "source": [
        "model = tf.keras.models.load_model('/content/my_model.keras')"
      ],
      "metadata": {
        "id": "_Qakny_KH-Vg"
      },
      "execution_count": 77,
      "outputs": []
    },
    {
      "cell_type": "code",
      "source": [
        "def preprocess_image(image_data):\n",
        "    image_data = image_data.split(\",\")[1]\n",
        "    image = Image.open(BytesIO(base64.b64decode(image_data))).convert('L')\n",
        "    plt.imshow(image, cmap='gray')\n",
        "    plt.title(\"Original Captured Image\")\n",
        "    plt.axis('off')\n",
        "    plt.show()\n",
        "    image = image.resize((28, 28))\n",
        "    image = ImageOps.invert(image)\n",
        "    image = np.array(image).astype('float32') / 255.0\n",
        "    image = image.reshape(1, 28, 28, 1)\n",
        "\n",
        "    return image\n",
        "\n",
        "def predict_digit(image_data):\n",
        "    image = preprocess_image(image_data)\n",
        "    prediction = model.predict(image)\n",
        "    print(f\"Prediction Probabilities: {prediction}\")\n",
        "\n",
        "    predicted_digit = np.argmax(prediction)\n",
        "    print(f\"Predicted Digit: {predicted_digit}\")\n",
        "\n",
        "from google.colab import output\n",
        "output.register_callback('notebook.predict_digit', predict_digit)\n"
      ],
      "metadata": {
        "id": "PnwB58Bjoac9"
      },
      "execution_count": 78,
      "outputs": []
    },
    {
      "cell_type": "code",
      "source": [
        "canvas_html = \"\"\"\n",
        "<canvas id=\"canvas\" width=256 height=256 style=\"border:1px solid #000000;\"></canvas>\n",
        "<br>\n",
        "<button onclick=\"clearCanvas()\">Clear</button>\n",
        "<button onclick=\"predictDigit()\">Predict</button>\n",
        "<script>\n",
        "var canvas = document.getElementById('canvas');\n",
        "var ctx = canvas.getContext('2d');\n",
        "var drawing = false;\n",
        "\n",
        "canvas.addEventListener('mousedown', function(e) {\n",
        "    drawing = true;\n",
        "    draw(e);\n",
        "});\n",
        "\n",
        "canvas.addEventListener('mousemove', function(e) {\n",
        "    if (drawing) {\n",
        "        draw(e);\n",
        "    }\n",
        "});\n",
        "\n",
        "canvas.addEventListener('mouseup', function() {\n",
        "    drawing = false;\n",
        "    ctx.beginPath();\n",
        "});\n",
        "\n",
        "canvas.addEventListener('mouseleave', function() {\n",
        "    drawing = false;\n",
        "    ctx.beginPath();\n",
        "});\n",
        "\n",
        "function draw(e) {\n",
        "    ctx.lineWidth = 20;  // Increase line width for better visibility\n",
        "    ctx.lineCap = 'round';\n",
        "    ctx.strokeStyle = 'white';  // Ensure the stroke color is white (if the background is black)\n",
        "    ctx.lineTo(e.clientX - canvas.getBoundingClientRect().left, e.clientY - canvas.getBoundingClientRect().top);\n",
        "    ctx.stroke();\n",
        "    ctx.beginPath();\n",
        "    ctx.moveTo(e.clientX - canvas.getBoundingClientRect().left, e.clientY - canvas.getBoundingClientRect().top);\n",
        "}\n",
        "\n",
        "function clearCanvas() {\n",
        "    ctx.clearRect(0, 0, canvas.width, canvas.height);\n",
        "}\n",
        "\n",
        "\n",
        "function predictDigit() {\n",
        "    var dataURL = canvas.toDataURL('image/png');\n",
        "    var img = new Image();\n",
        "    img.src = dataURL;\n",
        "    img.onload = function() {\n",
        "        // Convert image to base64\n",
        "        var canvas2 = document.createElement('canvas');\n",
        "        canvas2.width = img.width;\n",
        "        canvas2.height = img.height;\n",
        "        var ctx2 = canvas2.getContext('2d');\n",
        "        ctx2.drawImage(img, 0, 0);\n",
        "        var imageData = canvas2.toDataURL('image/png');\n",
        "        google.colab.kernel.invokeFunction('notebook.predict_digit', [imageData], {});\n",
        "    };\n",
        "}\n",
        "</script>\n",
        "\"\"\"\n",
        "display(widgets.HTML(canvas_html))"
      ],
      "metadata": {
        "colab": {
          "base_uri": "https://localhost:8080/",
          "height": 1000,
          "referenced_widgets": [
            "5653103804a14bdea9ff8f80a61bbe26",
            "06427442188d4f3cb9bc09bd70c3fa5d",
            "09d22d1b04274adf95fa83b310d967fb"
          ]
        },
        "id": "vRZpwMn5hxnF",
        "outputId": "235079af-f089-4620-f3c3-6436c289721f"
      },
      "execution_count": 79,
      "outputs": [
        {
          "output_type": "display_data",
          "data": {
            "text/plain": [
              "HTML(value='\\n<canvas id=\"canvas\" width=256 height=256 style=\"border:1px solid #000000;\"></canvas>\\n<br>\\n<but…"
            ],
            "application/vnd.jupyter.widget-view+json": {
              "version_major": 2,
              "version_minor": 0,
              "model_id": "5653103804a14bdea9ff8f80a61bbe26"
            }
          },
          "metadata": {}
        },
        {
          "output_type": "display_data",
          "data": {
            "text/plain": [
              "<Figure size 640x480 with 1 Axes>"
            ],
            "image/png": "[encoded data removed]"
          },
          "metadata": {}
        },
        {
          "output_type": "stream",
          "name": "stdout",
          "text": [
            "\u001b[1m1/1\u001b[0m \u001b[32m━━━━━━━━━━━━━━━━━━━━\u001b[0m\u001b[37m\u001b[0m \u001b[1m1s\u001b[0m 525ms/step\n",
            "Prediction Probabilities: [[7.1211696e-01 2.8664997e-01 4.9357376e-09 2.8054306e-09 3.7765031e-04\n",
            "  2.9343573e-07 8.5491402e-04 5.6539178e-14 2.1009321e-07 7.8304957e-08]]\n",
            "Predicted Digit: 0\n"
          ]
        },
        {
          "output_type": "display_data",
          "data": {
            "text/plain": [
              "<Figure size 640x480 with 1 Axes>"
            ],
            "image/png": "[encoded data removed]"
          },
          "metadata": {}
        },
        {
          "output_type": "stream",
          "name": "stdout",
          "text": [
            "\u001b[1m1/1\u001b[0m \u001b[32m━━━━━━━━━━━━━━━━━━━━\u001b[0m\u001b[37m\u001b[0m \u001b[1m0s\u001b[0m 17ms/step\n",
            "Prediction Probabilities: [[9.9225581e-01 6.5450226e-03 3.3305948e-13 5.3590443e-18 4.5458096e-04\n",
            "  2.7912312e-09 7.4465963e-04 1.8153050e-13 2.6784000e-12 2.5940319e-10]]\n",
            "Predicted Digit: 0\n"
          ]
        },
        {
          "output_type": "display_data",
          "data": {
            "text/plain": [
              "<Figure size 640x480 with 1 Axes>"
            ],
            "image/png": "[encoded data removed]"
          },
          "metadata": {}
        },
        {
          "output_type": "stream",
          "name": "stdout",
          "text": [
            "\u001b[1m1/1\u001b[0m \u001b[32m━━━━━━━━━━━━━━━━━━━━\u001b[0m\u001b[37m\u001b[0m \u001b[1m0s\u001b[0m 16ms/step\n",
            "Prediction Probabilities: [[6.6345081e-09 1.1641658e-08 3.6635282e-11 9.9998558e-01 1.9323136e-09\n",
            "  1.4443822e-05 2.5338429e-09 2.1220198e-14 3.2793949e-08 4.2512122e-10]]\n",
            "Predicted Digit: 3\n"
          ]
        }
      ]
    },
    {
      "cell_type": "code",
      "source": [],
      "metadata": {
        "id": "2bM3Uky0s_AF"
      },
      "execution_count": 79,
      "outputs": []
    }
  ]
}